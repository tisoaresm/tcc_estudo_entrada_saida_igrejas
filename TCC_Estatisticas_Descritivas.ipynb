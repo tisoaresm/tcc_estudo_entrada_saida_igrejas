{
 "cells": [
  {
   "cell_type": "code",
   "execution_count": 1,
   "id": "d1724098",
   "metadata": {},
   "outputs": [],
   "source": [
    "import pandas as pd\n",
    "import pyreadstat\n",
    "import matplotlib.pyplot as plt\n",
    "import seaborn as sns"
   ]
  },
  {
   "cell_type": "code",
   "execution_count": 2,
   "id": "da123222",
   "metadata": {},
   "outputs": [],
   "source": [
    "df, meta = pyreadstat.read_dta(\"Bases_Tratadas\\\\Churches_USA_Data.dta\")"
   ]
  },
  {
   "cell_type": "code",
   "execution_count": 3,
   "id": "6cc70426",
   "metadata": {},
   "outputs": [],
   "source": [
    "df['fipsmerg'] = df['fipsmerg_original']"
   ]
  },
  {
   "cell_type": "code",
   "execution_count": 4,
   "id": "c59895e6",
   "metadata": {},
   "outputs": [],
   "source": [
    "df['grpname_reltrad'] = df.apply(lambda row: f\"{row['grpname']} ({int(row['reltrad'])})\", axis=1)\n",
    "\n",
    "dicio = dict({1: 'Evangelicals',\n",
    "             2: 'Mainlines',\n",
    "             3: 'Catholic'})\n",
    "\n",
    "df['reltrad_name'] = df.apply(lambda row: dicio[int(row['reltrad'])], axis=1)\n",
    "df['grpcode'] = df['grpcode'].astype(int)"
   ]
  },
  {
   "cell_type": "code",
   "execution_count": 5,
   "id": "faa161f6",
   "metadata": {},
   "outputs": [
    {
     "name": "stdout",
     "output_type": "stream",
     "text": [
      "<class 'pandas.core.frame.DataFrame'>\n",
      "RangeIndex: 939056 entries, 0 to 939055\n",
      "Data columns (total 26 columns):\n",
      " #   Column             Non-Null Count   Dtype  \n",
      "---  ------             --------------   -----  \n",
      " 0   prev_ano_mercado   939056 non-null  object \n",
      " 1   grpcode            939056 non-null  int32  \n",
      " 2   year               939056 non-null  float64\n",
      " 3   fipsmerg           939056 non-null  float64\n",
      " 4   cntynm             939056 non-null  object \n",
      " 5   stateab            939056 non-null  object \n",
      " 6   totpop             939056 non-null  float64\n",
      " 7   grpname            939056 non-null  object \n",
      " 8   adherent           939056 non-null  float64\n",
      " 9   congreg            939056 non-null  float64\n",
      " 10  reltrad            939056 non-null  float64\n",
      " 11  family             939056 non-null  float64\n",
      " 12  fipsmerg_original  939056 non-null  float64\n",
      " 13  a_imt              939056 non-null  float64\n",
      " 14  a_imt_1            704292 non-null  object \n",
      " 15  prev_year          704292 non-null  float64\n",
      " 16  ano_mercado        939056 non-null  object \n",
      " 17  n_E                704292 non-null  float64\n",
      " 18  n_M                704292 non-null  float64\n",
      " 19  n_C                704292 non-null  float64\n",
      " 20  Evangelical        939056 non-null  float64\n",
      " 21  Mainline           939056 non-null  float64\n",
      " 22  Catholic           939056 non-null  float64\n",
      " 23  pop_em_milhoes     939056 non-null  float64\n",
      " 24  grpname_reltrad    939056 non-null  object \n",
      " 25  reltrad_name       939056 non-null  object \n",
      "dtypes: float64(17), int32(1), object(8)\n",
      "memory usage: 182.7+ MB\n"
     ]
    }
   ],
   "source": [
    "df.info()"
   ]
  },
  {
   "cell_type": "markdown",
   "id": "69edad04",
   "metadata": {},
   "source": [
    "# Estatísticas básicas"
   ]
  },
  {
   "cell_type": "code",
   "execution_count": 6,
   "id": "1dab50e1",
   "metadata": {
    "scrolled": true
   },
   "outputs": [
    {
     "name": "stdout",
     "output_type": "stream",
     "text": [
      "número de condados:\n",
      "3089\n",
      "número de denominações:\n",
      "76\n",
      "número de templos em 1980:\n",
      "277575.0\n",
      "número de membros em 1980:\n",
      "115577194.0\n",
      "número de condados:\n",
      "3089\n",
      "número de denominações:\n",
      "76\n",
      "número de templos em 2010:\n",
      "278262.0\n",
      "número de membros em 2010:\n",
      "124672096.0\n"
     ]
    }
   ],
   "source": [
    "print('número de condados:')\n",
    "print(len(df.fipsmerg.unique()))\n",
    "\n",
    "print('número de denominações:')\n",
    "print(len(df.grpcode.unique()))\n",
    "\n",
    "print('número de templos em 1980:')\n",
    "print(df[df['year']==1980].congreg.sum())\n",
    "\n",
    "print('número de membros em 1980:')\n",
    "print(df[df['year']==1980].adherent.sum())\n",
    "\n",
    "print('número de condados:')\n",
    "print(len(df.fipsmerg.unique()))\n",
    "\n",
    "print('número de denominações:')\n",
    "print(len(df.grpcode.unique()))\n",
    "\n",
    "print('número de templos em 2010:')\n",
    "print(df[df['year']==2010].congreg.sum())\n",
    "\n",
    "print('número de membros em 2010:')\n",
    "print(df[df['year']==2010].adherent.sum())"
   ]
  },
  {
   "cell_type": "markdown",
   "id": "a145f4cf",
   "metadata": {},
   "source": [
    "## por categoria"
   ]
  },
  {
   "cell_type": "code",
   "execution_count": 7,
   "id": "ea06416b",
   "metadata": {},
   "outputs": [
    {
     "name": "stdout",
     "output_type": "stream",
     "text": [
      "Evangelicals\n",
      "---------------\n",
      "número de condados:\n",
      "3089\n",
      "número de denominações:\n",
      "76\n",
      "número de templos em 1980:\n",
      "277575.0\n",
      "número de membros em 1980:\n",
      "115577194.0\n",
      "número de condados:\n",
      "3089\n",
      "número de denominações:\n",
      "76\n",
      "número de templos em 2010:\n",
      "278262.0\n",
      "número de membros em 2010:\n",
      "124672096.0\n",
      "---------------\n",
      "Mainlines\n",
      "---------------\n",
      "número de condados:\n",
      "3089\n",
      "número de denominações:\n",
      "76\n",
      "número de templos em 1980:\n",
      "277575.0\n",
      "número de membros em 1980:\n",
      "115577194.0\n",
      "número de condados:\n",
      "3089\n",
      "número de denominações:\n",
      "76\n",
      "número de templos em 2010:\n",
      "278262.0\n",
      "número de membros em 2010:\n",
      "124672096.0\n",
      "---------------\n",
      "Catholic\n",
      "---------------\n",
      "número de condados:\n",
      "3089\n",
      "número de denominações:\n",
      "76\n",
      "número de templos em 1980:\n",
      "277575.0\n",
      "número de membros em 1980:\n",
      "115577194.0\n",
      "número de condados:\n",
      "3089\n",
      "número de denominações:\n",
      "76\n",
      "número de templos em 2010:\n",
      "278262.0\n",
      "número de membros em 2010:\n",
      "124672096.0\n",
      "---------------\n"
     ]
    }
   ],
   "source": [
    "for reltradname in df['reltrad_name'].unique():\n",
    "\n",
    "    df_filtrado = df[df['reltrad_name'] == reltradname]\n",
    "\n",
    "    print(reltradname)\n",
    "    print(15*\"-\")\n",
    "    print('número de condados:')\n",
    "    print(len(df.fipsmerg.unique()))\n",
    "\n",
    "    print('número de denominações:')\n",
    "    print(len(df.grpcode.unique()))\n",
    "\n",
    "    print('número de templos em 1980:')\n",
    "    templos_em_1980 = df[df['year']==1980].congreg.sum()\n",
    "    print(templos_em_1980)\n",
    "\n",
    "    print('número de membros em 1980:')\n",
    "    membros_em_1980 = df[df['year']==1980].adherent.sum()\n",
    "    print(membros_em_1980)\n",
    "\n",
    "    print('número de condados:')\n",
    "    print(len(df.fipsmerg.unique()))\n",
    "\n",
    "    print('número de denominações:')\n",
    "    print(len(df.grpcode.unique()))\n",
    "\n",
    "    print('número de templos em 2010:')\n",
    "    templos_em_2010 = df[df['year']==2010].congreg.sum()\n",
    "    print(templos_em_2010)\n",
    "\n",
    "    print('número de membros em 2010:')\n",
    "    membros_em_2010 = df[df['year']==2010].adherent.sum()\n",
    "    print(membros_em_2010)\n",
    "    print(15*\"-\")"
   ]
  },
  {
   "cell_type": "markdown",
   "id": "a87db0c6",
   "metadata": {},
   "source": [
    "# maiores denominações por categoria"
   ]
  },
  {
   "cell_type": "code",
   "execution_count": 8,
   "id": "f3a287fa",
   "metadata": {},
   "outputs": [],
   "source": [
    "# Agrupar por 'reltrad' e 'grpname' e somar o número de templos\n",
    "grouped = df.groupby(['reltrad_name', 'grpname'], as_index=False)['congreg'].sum()\n",
    "\n",
    "# Ordenar por 'reltrad' e pelo número de templos em ordem decrescente\n",
    "grouped_sorted = grouped.sort_values(by=['reltrad_name', 'congreg'], ascending=[True, False])\n",
    "\n",
    "# Selecionar os 5 primeiros de cada grupo (categoria 'reltrad')\n",
    "top5_per_category = grouped_sorted.groupby('reltrad_name').head(5)"
   ]
  },
  {
   "cell_type": "code",
   "execution_count": 9,
   "id": "4e3a2edb",
   "metadata": {},
   "outputs": [
    {
     "data": {
      "text/html": [
       "<div>\n",
       "<style scoped>\n",
       "    .dataframe tbody tr th:only-of-type {\n",
       "        vertical-align: middle;\n",
       "    }\n",
       "\n",
       "    .dataframe tbody tr th {\n",
       "        vertical-align: top;\n",
       "    }\n",
       "\n",
       "    .dataframe thead th {\n",
       "        text-align: right;\n",
       "    }\n",
       "</style>\n",
       "<table border=\"1\" class=\"dataframe\">\n",
       "  <thead>\n",
       "    <tr style=\"text-align: right;\">\n",
       "      <th></th>\n",
       "      <th>reltrad_name</th>\n",
       "      <th>grpname</th>\n",
       "      <th>congreg</th>\n",
       "    </tr>\n",
       "  </thead>\n",
       "  <tbody>\n",
       "    <tr>\n",
       "      <th>0</th>\n",
       "      <td>Catholic</td>\n",
       "      <td>Catholic Church</td>\n",
       "      <td>87151.0</td>\n",
       "    </tr>\n",
       "    <tr>\n",
       "      <th>50</th>\n",
       "      <td>Evangelicals</td>\n",
       "      <td>Southern Baptist Convention</td>\n",
       "      <td>165694.0</td>\n",
       "    </tr>\n",
       "    <tr>\n",
       "      <th>22</th>\n",
       "      <td>Evangelicals</td>\n",
       "      <td>Churches of Christ</td>\n",
       "      <td>51415.0</td>\n",
       "    </tr>\n",
       "    <tr>\n",
       "      <th>5</th>\n",
       "      <td>Evangelicals</td>\n",
       "      <td>Assemblies of God</td>\n",
       "      <td>44722.0</td>\n",
       "    </tr>\n",
       "    <tr>\n",
       "      <th>37</th>\n",
       "      <td>Evangelicals</td>\n",
       "      <td>Lutheran Church, The Missouri Synod</td>\n",
       "      <td>23818.0</td>\n",
       "    </tr>\n",
       "    <tr>\n",
       "      <th>15</th>\n",
       "      <td>Evangelicals</td>\n",
       "      <td>Church of God (Cleveland, TN)</td>\n",
       "      <td>21734.0</td>\n",
       "    </tr>\n",
       "    <tr>\n",
       "      <th>74</th>\n",
       "      <td>Mainlines</td>\n",
       "      <td>The United Methodist Church, old count</td>\n",
       "      <td>144694.0</td>\n",
       "    </tr>\n",
       "    <tr>\n",
       "      <th>71</th>\n",
       "      <td>Mainlines</td>\n",
       "      <td>Presbyterian Church (USA)</td>\n",
       "      <td>45711.0</td>\n",
       "    </tr>\n",
       "    <tr>\n",
       "      <th>64</th>\n",
       "      <td>Mainlines</td>\n",
       "      <td>Evangelical Lutheran Church in America Groups ...</td>\n",
       "      <td>43307.0</td>\n",
       "    </tr>\n",
       "    <tr>\n",
       "      <th>63</th>\n",
       "      <td>Mainlines</td>\n",
       "      <td>Evangelical Lutheran Church in America</td>\n",
       "      <td>42330.0</td>\n",
       "    </tr>\n",
       "    <tr>\n",
       "      <th>69</th>\n",
       "      <td>Mainlines</td>\n",
       "      <td>Moravian Church in America, Alaska and North P...</td>\n",
       "      <td>37305.0</td>\n",
       "    </tr>\n",
       "  </tbody>\n",
       "</table>\n",
       "</div>"
      ],
      "text/plain": [
       "    reltrad_name                                            grpname   congreg\n",
       "0       Catholic                                    Catholic Church   87151.0\n",
       "50  Evangelicals                        Southern Baptist Convention  165694.0\n",
       "22  Evangelicals                                 Churches of Christ   51415.0\n",
       "5   Evangelicals                                  Assemblies of God   44722.0\n",
       "37  Evangelicals                Lutheran Church, The Missouri Synod   23818.0\n",
       "15  Evangelicals                      Church of God (Cleveland, TN)   21734.0\n",
       "74     Mainlines             The United Methodist Church, old count  144694.0\n",
       "71     Mainlines                          Presbyterian Church (USA)   45711.0\n",
       "64     Mainlines  Evangelical Lutheran Church in America Groups ...   43307.0\n",
       "63     Mainlines             Evangelical Lutheran Church in America   42330.0\n",
       "69     Mainlines  Moravian Church in America, Alaska and North P...   37305.0"
      ]
     },
     "execution_count": 9,
     "metadata": {},
     "output_type": "execute_result"
    }
   ],
   "source": [
    "top5_per_category"
   ]
  },
  {
   "cell_type": "code",
   "execution_count": 10,
   "id": "c118de43",
   "metadata": {},
   "outputs": [
    {
     "name": "stdout",
     "output_type": "stream",
     "text": [
      "Southern Baptist Convention\n",
      "Churches of Christ\n",
      "Assemblies of God\n",
      "Lutheran Church, The Missouri Synod\n",
      "Church of God (Cleveland, TN)\n"
     ]
    }
   ],
   "source": [
    "for den in top5_per_category[top5_per_category.reltrad_name=='Evangelicals'].grpname:\n",
    "    print(den)"
   ]
  },
  {
   "cell_type": "code",
   "execution_count": 11,
   "id": "0ab7bbb0",
   "metadata": {},
   "outputs": [
    {
     "name": "stdout",
     "output_type": "stream",
     "text": [
      "The United Methodist Church, old count\n",
      "Presbyterian Church (USA)\n",
      "Evangelical Lutheran Church in America Groups Combined\n",
      "Evangelical Lutheran Church in America\n",
      "Moravian Church in America, Alaska and North Province Combined\n"
     ]
    }
   ],
   "source": [
    "for den in top5_per_category[top5_per_category.reltrad_name=='Mainlines'].grpname:\n",
    "    print(den)"
   ]
  },
  {
   "cell_type": "code",
   "execution_count": 12,
   "id": "aeb2c8d9",
   "metadata": {},
   "outputs": [
    {
     "name": "stdout",
     "output_type": "stream",
     "text": [
      "Catholic Church\n"
     ]
    }
   ],
   "source": [
    "for den in top5_per_category[top5_per_category.reltrad_name=='Catholic'].grpname:\n",
    "    print(den)"
   ]
  },
  {
   "cell_type": "markdown",
   "id": "c8745563",
   "metadata": {},
   "source": [
    "# razão número de membros e número de templos por categoria"
   ]
  },
  {
   "cell_type": "code",
   "execution_count": 13,
   "id": "f2610b3d",
   "metadata": {},
   "outputs": [],
   "source": [
    "# Agrupar por 'reltrad' e calcular a soma de 'congreg' e 'adherent'\n",
    "resultado = df.groupby('reltrad_name').agg({\n",
    "    'congreg': 'sum', \n",
    "    'adherent': 'sum'\n",
    "}).reset_index()\n",
    "\n",
    "resultado.rename(columns={'congreg': 'number of temples'}, inplace=True)\n",
    "\n",
    "resultado['adherent per temple'] = resultado['adherent'] / resultado['number of temples']\n",
    "\n",
    "transposta = resultado.set_index('reltrad_name').T\n",
    "transposta = transposta.applymap(lambda x: f'{x:,.0f}')"
   ]
  },
  {
   "cell_type": "code",
   "execution_count": 14,
   "id": "c6c8a09a",
   "metadata": {},
   "outputs": [
    {
     "data": {
      "text/html": [
       "<div>\n",
       "<style scoped>\n",
       "    .dataframe tbody tr th:only-of-type {\n",
       "        vertical-align: middle;\n",
       "    }\n",
       "\n",
       "    .dataframe tbody tr th {\n",
       "        vertical-align: top;\n",
       "    }\n",
       "\n",
       "    .dataframe thead th {\n",
       "        text-align: right;\n",
       "    }\n",
       "</style>\n",
       "<table border=\"1\" class=\"dataframe\">\n",
       "  <thead>\n",
       "    <tr style=\"text-align: right;\">\n",
       "      <th>reltrad_name</th>\n",
       "      <th>Catholic</th>\n",
       "      <th>Evangelicals</th>\n",
       "      <th>Mainlines</th>\n",
       "    </tr>\n",
       "  </thead>\n",
       "  <tbody>\n",
       "    <tr>\n",
       "      <th>number of temples</th>\n",
       "      <td>87,151</td>\n",
       "      <td>493,891</td>\n",
       "      <td>469,898</td>\n",
       "    </tr>\n",
       "    <tr>\n",
       "      <th>adherent</th>\n",
       "      <td>221,821,925</td>\n",
       "      <td>136,863,314</td>\n",
       "      <td>135,780,318</td>\n",
       "    </tr>\n",
       "    <tr>\n",
       "      <th>adherent per temple</th>\n",
       "      <td>2,545</td>\n",
       "      <td>277</td>\n",
       "      <td>289</td>\n",
       "    </tr>\n",
       "  </tbody>\n",
       "</table>\n",
       "</div>"
      ],
      "text/plain": [
       "reltrad_name            Catholic Evangelicals    Mainlines\n",
       "number of temples         87,151      493,891      469,898\n",
       "adherent             221,821,925  136,863,314  135,780,318\n",
       "adherent per temple        2,545          277          289"
      ]
     },
     "execution_count": 14,
     "metadata": {},
     "output_type": "execute_result"
    }
   ],
   "source": [
    "# transposta.to_excel(r\"C:\\Users\\tiago\\Downloads\\table.xlsx\")\n",
    "transposta"
   ]
  },
  {
   "cell_type": "markdown",
   "id": "941b2e82",
   "metadata": {},
   "source": [
    "# templos por condado em cada ano"
   ]
  },
  {
   "cell_type": "code",
   "execution_count": 15,
   "id": "138876ff",
   "metadata": {},
   "outputs": [
    {
     "name": "stdout",
     "output_type": "stream",
     "text": [
      "fipsmerg  1001.0   1003.0   1005.0   1007.0   1009.0   1011.0   1013.0   \\\n",
      "year                                                                      \n",
      "1980.0       56.0    164.0     75.0     59.0    131.0     24.0     87.0   \n",
      "1990.0       62.5    178.5     67.0     59.0    133.0     24.0     87.0   \n",
      "2000.0       69.0    199.0     64.0     66.0    130.0     22.0     81.0   \n",
      "2010.0       80.0    216.0     59.0     67.0    145.0     21.0     76.0   \n",
      "\n",
      "fipsmerg  1015.0   1017.0   1019.0   ...  56027.0  56029.0  56031.0  56033.0  \\\n",
      "year                                 ...                                       \n",
      "1980.0      198.0    100.0     91.0  ...     11.0     37.0     23.0     27.0   \n",
      "1990.0      197.0    102.0     87.0  ...     11.0     39.0     26.0     26.0   \n",
      "2000.0      207.5    100.0     79.0  ...     12.0     43.0     24.0     28.0   \n",
      "2010.0      194.0     89.0     71.0  ...     11.0     44.0     26.0     36.0   \n",
      "\n",
      "fipsmerg  56035.0  56037.0  56039.0  56041.0  56043.0  56045.0  \n",
      "year                                                            \n",
      "1980.0       12.0     35.0      8.0     13.0     22.0     17.0  \n",
      "1990.0       14.0     43.0     12.0     24.0     19.0     19.0  \n",
      "2000.0       15.0     44.0     14.0     21.0     20.0     17.0  \n",
      "2010.0       14.0     42.0     13.0     22.0     22.0     16.0  \n",
      "\n",
      "[4 rows x 3089 columns]\n"
     ]
    }
   ],
   "source": [
    "temples_by_year_county = df.groupby(['year', 'fipsmerg'])['congreg'].sum().unstack(fill_value=0)\n",
    "print(temples_by_year_county)"
   ]
  },
  {
   "cell_type": "markdown",
   "id": "909399fd",
   "metadata": {},
   "source": [
    "# templos por estado em cada ano"
   ]
  },
  {
   "cell_type": "code",
   "execution_count": 16,
   "id": "c1b95d90",
   "metadata": {},
   "outputs": [
    {
     "name": "stdout",
     "output_type": "stream",
     "text": [
      "stateab      AK      AL      AR      AZ       CA      CO      CT     DC  \\\n",
      "year                                                                      \n",
      "1980.0   4963.0  7898.0  5756.0  1886.0  12296.0  2438.0  1857.0  452.0   \n",
      "1990.0    720.5  7949.5  5625.5  2254.0  12440.5  2595.0  1917.0  339.0   \n",
      "2000.0    764.0  7885.0  5662.0  2510.5  13705.0  2804.0  1938.5  367.0   \n",
      "2010.0    840.0  7877.0  5575.0  2718.0  14964.0  2954.0  1969.0  391.0   \n",
      "\n",
      "stateab     DE       FL  ...      SD      TN       TX     UT      VA     VT  \\\n",
      "year                     ...                                                  \n",
      "1980.0   508.0   7098.0  ...  2073.0  8763.0  16533.0  328.0  7060.0  757.0   \n",
      "1990.0   513.0   8275.5  ...  2001.5  8859.0  17060.5  400.5  7333.0  752.5   \n",
      "2000.0   539.0   9168.0  ...  1900.5  8964.0  17794.0  461.5  7322.5  747.0   \n",
      "2010.0   572.0  10335.0  ...  1816.0  9432.0  20734.0  511.0  7890.0  734.0   \n",
      "\n",
      "stateab      WA       WI      WV     WY  \n",
      "year                                     \n",
      "1980.0   3483.0  12072.0  4472.0  592.0  \n",
      "1990.0   3784.0   5590.0  4314.5  660.0  \n",
      "2000.0   4059.0   5535.0  4068.0  678.0  \n",
      "2010.0   4119.0   5465.0  3837.0  678.0  \n",
      "\n",
      "[4 rows x 51 columns]\n"
     ]
    }
   ],
   "source": [
    "temples_by_year_state = df.groupby(['year', 'stateab'])['congreg'].sum().unstack(fill_value=0)\n",
    "print(temples_by_year_state)"
   ]
  },
  {
   "cell_type": "code",
   "execution_count": 26,
   "id": "40692800",
   "metadata": {},
   "outputs": [],
   "source": [
    "df_lista_denominacoes = df[['grpname','reltrad_name']]"
   ]
  },
  {
   "cell_type": "code",
   "execution_count": 28,
   "id": "1304e514",
   "metadata": {},
   "outputs": [
    {
     "name": "stderr",
     "output_type": "stream",
     "text": [
      "C:\\ProgramData\\Anaconda3\\lib\\site-packages\\pandas\\util\\_decorators.py:311: SettingWithCopyWarning: \n",
      "A value is trying to be set on a copy of a slice from a DataFrame\n",
      "\n",
      "See the caveats in the documentation: https://pandas.pydata.org/pandas-docs/stable/user_guide/indexing.html#returning-a-view-versus-a-copy\n",
      "  return func(*args, **kwargs)\n"
     ]
    }
   ],
   "source": [
    "df_lista_denominacoes.drop_duplicates(inplace=True)"
   ]
  },
  {
   "cell_type": "code",
   "execution_count": 37,
   "id": "a8fc38b6",
   "metadata": {},
   "outputs": [],
   "source": [
    "df_lista_denominacoes.sort_values(['reltrad_name', 'grpname'], inplace=True)"
   ]
  },
  {
   "cell_type": "code",
   "execution_count": 38,
   "id": "19d7d538",
   "metadata": {},
   "outputs": [
    {
     "name": "stdout",
     "output_type": "stream",
     "text": [
      "                                                Catholic Church |        Catholic\n",
      "                        Allegheny Wesleyan Methodist Connection |    Evangelicals\n",
      "                                  American  Baptist Association |    Evangelicals\n",
      "                          Apostolic Christian Church (Nazarean) |    Evangelicals\n",
      "                    Apostolic Christian Church of America, Inc. |    Evangelicals\n",
      "                                              Assemblies of God |    Evangelicals\n",
      "             Associate Reformed Presbyterian Church (Gen Synod) |    Evangelicals\n",
      "              Baptist General Conference ('Converge Worldwide') |    Evangelicals\n",
      "                      Baptist Missionary Association of America |    Evangelicals\n",
      "                                Beachy Amish Mennonite Churches |    Evangelicals\n",
      "                                Brethren Church (Ashland, Ohio) |    Evangelicals\n",
      "                                      Brethren in Christ Church |    Evangelicals\n",
      "                      Christian Churches and Churches of Christ |    Evangelicals\n",
      "                     Christian Reformed Church in North America |    Evangelicals\n",
      "                              Church of God (Anderson, Indiana) |    Evangelicals\n",
      "                                  Church of God (Cleveland, TN) |    Evangelicals\n",
      "             Church of God General Conference (Abrahamic Faith) |    Evangelicals\n",
      "                           Church of God in Christ (Mennonnite) |    Evangelicals\n",
      "                                      Church of God of Prophecy |    Evangelicals\n",
      "                                         Church of the Brethren |    Evangelicals\n",
      "                     Church of the Lutheran Brethren of America |    Evangelicals\n",
      "                                         Church of the Nazarene |    Evangelicals\n",
      "                                             Churches of Christ |    Evangelicals\n",
      "                             Churches of God General Conference |    Evangelicals\n",
      "                    Conservative Baptist Association of America |    Evangelicals\n",
      "               Conservative Congregational Christian Conference |    Evangelicals\n",
      "                                 Cumberland Presbyterian Church |    Evangelicals\n",
      "                              Evangelical Congregational Church |    Evangelicals\n",
      "                                     Evangelical Lutheran Synod |    Evangelicals\n",
      "                                Evangelical Presbyterian Church |    Evangelicals\n",
      "                       Fellowship of Evangelical Bible Churches |    Evangelicals\n",
      "                             Fellowship of Evangelical Churches |    Evangelicals\n",
      "                         Free Methodist Church of North America |    Evangelicals\n",
      "                Free Will Baptist, National Association of Inc. |    Evangelicals\n",
      "                  International Church of the Foursquare Gospel |    Evangelicals\n",
      "                     International Pentecostal Church of Christ |    Evangelicals\n",
      "                      International Pentecostal Holiness Church |    Evangelicals\n",
      "                            Lutheran Church, The Missouri Synod |    Evangelicals\n",
      "                Mennonite Brethren Churches, U.S. Conference of |    Evangelicals\n",
      "                               Mennonite Church Groups Combined |    Evangelicals\n",
      "                    Midwest Congregational Christian Fellowship |    Evangelicals\n",
      "                              North American Baptist Conference |    Evangelicals\n",
      "                                       Old Order River Brethren |    Evangelicals\n",
      "                                      Pentecostal Church of God |    Evangelicals\n",
      "                                 Presbyterian Church in America |    Evangelicals\n",
      "                                 Primitive Methodist Church USA |    Evangelicals\n",
      "                        Protestant Reformed Churches in America |    Evangelicals\n",
      "                           Reformed Church in the United States |    Evangelicals\n",
      "                                         Seventh-day Adventists |    Evangelicals\n",
      "                         Seventh-day Baptist General Conference |    Evangelicals\n",
      "                                    Southern Baptist Convention |    Evangelicals\n",
      "                 The Association of Free Lutheran Congregations |    Evangelicals\n",
      "                          The Christian and Missionary Alliance |    Evangelicals\n",
      "                                The Evangelical Covenant Church |    Evangelicals\n",
      "                         The Evangelical Free Church of America |    Evangelicals\n",
      "                                          The Missionary Church |    Evangelicals\n",
      "                               The Orthodox Presbyterian Church |    Evangelicals\n",
      "                                             The Salvation Army |    Evangelicals\n",
      "                           Wisconsin Evangelical Lutheran Synod |    Evangelicals\n",
      "                           American Baptist Churches in the USA |       Mainlines\n",
      "                         Christian Church (Disciples of Christ) |       Mainlines\n",
      "                   Congregational Christian Churches Additional |       Mainlines\n",
      "                               Episcopal Church Groups Combined |       Mainlines\n",
      "                         Evangelical Lutheran Church in America |       Mainlines\n",
      "         Evangelical Lutheran Church in America Groups Combined |       Mainlines\n",
      "                                        Friends Groups Combined |       Mainlines\n",
      "          Metropolitan Community Churches, Universal Fellowship |       Mainlines\n",
      "     Moravian Church in America (Unitas Fratrum) North Province |       Mainlines\n",
      "     Moravian Church in America (Unitas Fratrum) South Province |       Mainlines\n",
      " Moravian Church in America, Alaska and North Province Combined |       Mainlines\n",
      "     National Association Of  Congregational Christian Churches |       Mainlines\n",
      "                                      Presbyterian Church (USA) |       Mainlines\n",
      "                                     Reformed Church in America |       Mainlines\n",
      "                                           The Episcopal Church |       Mainlines\n",
      "                         The United Methodist Church, old count |       Mainlines\n",
      "                                        United Church of Christ |       Mainlines\n"
     ]
    }
   ],
   "source": [
    "for index, row in df_lista_denominacoes.iterrows():\n",
    "    print('{:>63} | {:>15}'.format(row['grpname'], row['reltrad_name']))"
   ]
  }
 ],
 "metadata": {
  "kernelspec": {
   "display_name": "Python 3 (ipykernel)",
   "language": "python",
   "name": "python3"
  },
  "language_info": {
   "codemirror_mode": {
    "name": "ipython",
    "version": 3
   },
   "file_extension": ".py",
   "mimetype": "text/x-python",
   "name": "python",
   "nbconvert_exporter": "python",
   "pygments_lexer": "ipython3",
   "version": "3.9.7"
  }
 },
 "nbformat": 4,
 "nbformat_minor": 5
}
